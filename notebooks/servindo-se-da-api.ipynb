{
 "cells": [
  {
   "cell_type": "code",
   "execution_count": 20,
   "metadata": {},
   "outputs": [],
   "source": [
    "import requests"
   ]
  },
  {
   "cell_type": "code",
   "execution_count": 36,
   "metadata": {},
   "outputs": [
    {
     "data": {
      "text/plain": [
       "{'preco': 198263.48026790004}"
      ]
     },
     "execution_count": 36,
     "metadata": {},
     "output_type": "execute_result"
    }
   ],
   "source": [
    "# aceeso a api\n",
    "url = 'http://127.0.0.1:5000/cotacao/'\n",
    "\n",
    "# dados que serão passados\n",
    "dados = {\n",
    "    \"tamanho\":120,\n",
    "    \"ano\": 2001,\n",
    "    \"garagem\": 2\n",
    "}\n",
    "\n",
    "# fazendo a requisição da api\n",
    "respoonse = requests.post(url, json=dados)\n",
    "\n",
    "# resultado\n",
    "respoonse.json()"
   ]
  },
  {
   "cell_type": "markdown",
   "metadata": {},
   "source": [
    "Agora, vamos acessar uma endpoint com autenticação básica."
   ]
  },
  {
   "cell_type": "code",
   "execution_count": 38,
   "metadata": {},
   "outputs": [],
   "source": [
    "url_sentimento = 'http://127.0.0.1:5000/sentimento/python is great'\n",
    "\n",
    "# autenticacao\n",
    "auth = requests.auth.HTTPBasicAuth('julio', 'alura')\n",
    "# fazendo a requisição da api\n",
    "respoonse = requests.get(url_sentimento, auth=auth)\n",
    "\n",
    "# resultado\n",
    "#respoonse.json()"
   ]
  },
  {
   "cell_type": "code",
   "execution_count": 39,
   "metadata": {},
   "outputs": [
    {
     "data": {
      "text/plain": [
       "'A polaridade é: 0.8'"
      ]
     },
     "execution_count": 39,
     "metadata": {},
     "output_type": "execute_result"
    }
   ],
   "source": [
    "respoonse.text"
   ]
  },
  {
   "cell_type": "code",
   "execution_count": null,
   "metadata": {},
   "outputs": [],
   "source": []
  }
 ],
 "metadata": {
  "kernelspec": {
   "display_name": "base",
   "language": "python",
   "name": "python3"
  },
  "language_info": {
   "codemirror_mode": {
    "name": "ipython",
    "version": 3
   },
   "file_extension": ".py",
   "mimetype": "text/x-python",
   "name": "python",
   "nbconvert_exporter": "python",
   "pygments_lexer": "ipython3",
   "version": "3.11.5"
  }
 },
 "nbformat": 4,
 "nbformat_minor": 2
}
